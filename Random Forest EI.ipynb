{
 "cells": [
  {
   "cell_type": "markdown",
   "metadata": {},
   "source": [
    "# Enseignement d'Intégration  - Doctolib #\n",
    "\n",
    "Notebook for the EI of the ST4 at CentraleSupélec. We want to use the data given by Doctolib on their patients to be able to predict if a new patient is going to be present or absent\n",
    "\n",
    "## Introductory code ##\n",
    "\n",
    "### Importing Libraries ###"
   ]
  },
  {
   "cell_type": "code",
   "execution_count": 538,
   "metadata": {},
   "outputs": [],
   "source": [
    "import matplotlib.pyplot as plt\n",
    "import pandas as pd\n",
    "import numpy as np\n",
    "from sklearn.preprocessing import StandardScaler\n",
    "from sklearn.ensemble import RandomForestClassifier\n",
    "from sklearn.model_selection import GridSearchCV\n",
    "from sklearn.model_selection import train_test_split\n",
    "from sklearn.model_selection import ShuffleSplit\n",
    "from sklearn.metrics import confusion_matrix, roc_curve, auc, mean_squared_error, precision_recall_curve\n",
    "from sklearn.metrics import f1_score, average_precision_score, balanced_accuracy_score, precision_score, recall_score\n",
    "import seaborn as sns\n",
    "from treeinterpreter import treeinterpreter as ti\n",
    "from sklearn.tree import export_graphviz\n",
    "import pydotplus\n",
    "from IPython.display import Image"
   ]
  },
  {
   "cell_type": "markdown",
   "metadata": {},
   "source": [
    "### Reading Data ###\n",
    "\n",
    "Here we want to read a part of the csv given and maybe plot a few variables"
   ]
  },
  {
   "cell_type": "code",
   "execution_count": 539,
   "metadata": {},
   "outputs": [
    {
     "data": {
      "text/html": [
       "<div>\n",
       "<style scoped>\n",
       "    .dataframe tbody tr th:only-of-type {\n",
       "        vertical-align: middle;\n",
       "    }\n",
       "\n",
       "    .dataframe tbody tr th {\n",
       "        vertical-align: top;\n",
       "    }\n",
       "\n",
       "    .dataframe thead th {\n",
       "        text-align: right;\n",
       "    }\n",
       "</style>\n",
       "<table border=\"1\" class=\"dataframe\">\n",
       "  <thead>\n",
       "    <tr style=\"text-align: right;\">\n",
       "      <th></th>\n",
       "      <th>online_booking</th>\n",
       "      <th>delay_in_days</th>\n",
       "      <th>patient_appt_number</th>\n",
       "      <th>previous_noshow</th>\n",
       "      <th>appt_duration</th>\n",
       "      <th>received_reminder_sms</th>\n",
       "      <th>zipcode</th>\n",
       "      <th>no_show</th>\n",
       "      <th>['patient_age_group']_0-17</th>\n",
       "      <th>['patient_age_group']_18-24</th>\n",
       "      <th>...</th>\n",
       "      <th>['region']_LORRAINE</th>\n",
       "      <th>['region']_La Reunion</th>\n",
       "      <th>['region']_MIDI-PYRENEES</th>\n",
       "      <th>['region']_Monaco</th>\n",
       "      <th>['region']_NORD-PAS-DE-CALAIS</th>\n",
       "      <th>['region']_PAYS DE LA LOIRE</th>\n",
       "      <th>['region']_PICARDIE</th>\n",
       "      <th>['region']_POITOU-CHARENTES</th>\n",
       "      <th>['region']_PROVENCE-ALPES-COTE D'AZUR</th>\n",
       "      <th>['region']_RHONE-ALPES</th>\n",
       "    </tr>\n",
       "  </thead>\n",
       "  <tbody>\n",
       "    <tr>\n",
       "      <th>0</th>\n",
       "      <td>1</td>\n",
       "      <td>6</td>\n",
       "      <td>13</td>\n",
       "      <td>0</td>\n",
       "      <td>45</td>\n",
       "      <td>1</td>\n",
       "      <td>92</td>\n",
       "      <td>0</td>\n",
       "      <td>0</td>\n",
       "      <td>0</td>\n",
       "      <td>...</td>\n",
       "      <td>0</td>\n",
       "      <td>0</td>\n",
       "      <td>0</td>\n",
       "      <td>0</td>\n",
       "      <td>0</td>\n",
       "      <td>0</td>\n",
       "      <td>0</td>\n",
       "      <td>0</td>\n",
       "      <td>0</td>\n",
       "      <td>0</td>\n",
       "    </tr>\n",
       "    <tr>\n",
       "      <th>1</th>\n",
       "      <td>0</td>\n",
       "      <td>57</td>\n",
       "      <td>2</td>\n",
       "      <td>0</td>\n",
       "      <td>90</td>\n",
       "      <td>1</td>\n",
       "      <td>69</td>\n",
       "      <td>0</td>\n",
       "      <td>0</td>\n",
       "      <td>0</td>\n",
       "      <td>...</td>\n",
       "      <td>0</td>\n",
       "      <td>0</td>\n",
       "      <td>0</td>\n",
       "      <td>0</td>\n",
       "      <td>0</td>\n",
       "      <td>0</td>\n",
       "      <td>0</td>\n",
       "      <td>0</td>\n",
       "      <td>0</td>\n",
       "      <td>1</td>\n",
       "    </tr>\n",
       "    <tr>\n",
       "      <th>2</th>\n",
       "      <td>1</td>\n",
       "      <td>5</td>\n",
       "      <td>1</td>\n",
       "      <td>0</td>\n",
       "      <td>80</td>\n",
       "      <td>1</td>\n",
       "      <td>94</td>\n",
       "      <td>0</td>\n",
       "      <td>0</td>\n",
       "      <td>0</td>\n",
       "      <td>...</td>\n",
       "      <td>0</td>\n",
       "      <td>0</td>\n",
       "      <td>0</td>\n",
       "      <td>0</td>\n",
       "      <td>0</td>\n",
       "      <td>0</td>\n",
       "      <td>0</td>\n",
       "      <td>0</td>\n",
       "      <td>0</td>\n",
       "      <td>0</td>\n",
       "    </tr>\n",
       "    <tr>\n",
       "      <th>3</th>\n",
       "      <td>0</td>\n",
       "      <td>11</td>\n",
       "      <td>3</td>\n",
       "      <td>0</td>\n",
       "      <td>20</td>\n",
       "      <td>1</td>\n",
       "      <td>94</td>\n",
       "      <td>0</td>\n",
       "      <td>0</td>\n",
       "      <td>0</td>\n",
       "      <td>...</td>\n",
       "      <td>0</td>\n",
       "      <td>0</td>\n",
       "      <td>0</td>\n",
       "      <td>0</td>\n",
       "      <td>0</td>\n",
       "      <td>0</td>\n",
       "      <td>0</td>\n",
       "      <td>0</td>\n",
       "      <td>0</td>\n",
       "      <td>0</td>\n",
       "    </tr>\n",
       "    <tr>\n",
       "      <th>4</th>\n",
       "      <td>1</td>\n",
       "      <td>4</td>\n",
       "      <td>1</td>\n",
       "      <td>0</td>\n",
       "      <td>40</td>\n",
       "      <td>1</td>\n",
       "      <td>13</td>\n",
       "      <td>0</td>\n",
       "      <td>1</td>\n",
       "      <td>0</td>\n",
       "      <td>...</td>\n",
       "      <td>0</td>\n",
       "      <td>0</td>\n",
       "      <td>0</td>\n",
       "      <td>0</td>\n",
       "      <td>0</td>\n",
       "      <td>0</td>\n",
       "      <td>0</td>\n",
       "      <td>0</td>\n",
       "      <td>1</td>\n",
       "      <td>0</td>\n",
       "    </tr>\n",
       "  </tbody>\n",
       "</table>\n",
       "<p>5 rows × 88 columns</p>\n",
       "</div>"
      ],
      "text/plain": [
       "   online_booking  delay_in_days  patient_appt_number  previous_noshow  \\\n",
       "0               1              6                   13                0   \n",
       "1               0             57                    2                0   \n",
       "2               1              5                    1                0   \n",
       "3               0             11                    3                0   \n",
       "4               1              4                    1                0   \n",
       "\n",
       "   appt_duration  received_reminder_sms  zipcode  no_show  \\\n",
       "0             45                      1       92        0   \n",
       "1             90                      1       69        0   \n",
       "2             80                      1       94        0   \n",
       "3             20                      1       94        0   \n",
       "4             40                      1       13        0   \n",
       "\n",
       "   ['patient_age_group']_0-17  ['patient_age_group']_18-24  \\\n",
       "0                           0                            0   \n",
       "1                           0                            0   \n",
       "2                           0                            0   \n",
       "3                           0                            0   \n",
       "4                           1                            0   \n",
       "\n",
       "            ...            ['region']_LORRAINE  ['region']_La Reunion  \\\n",
       "0           ...                              0                      0   \n",
       "1           ...                              0                      0   \n",
       "2           ...                              0                      0   \n",
       "3           ...                              0                      0   \n",
       "4           ...                              0                      0   \n",
       "\n",
       "   ['region']_MIDI-PYRENEES  ['region']_Monaco  ['region']_NORD-PAS-DE-CALAIS  \\\n",
       "0                         0                  0                              0   \n",
       "1                         0                  0                              0   \n",
       "2                         0                  0                              0   \n",
       "3                         0                  0                              0   \n",
       "4                         0                  0                              0   \n",
       "\n",
       "   ['region']_PAYS DE LA LOIRE  ['region']_PICARDIE  \\\n",
       "0                            0                    0   \n",
       "1                            0                    0   \n",
       "2                            0                    0   \n",
       "3                            0                    0   \n",
       "4                            0                    0   \n",
       "\n",
       "   ['region']_POITOU-CHARENTES  ['region']_PROVENCE-ALPES-COTE D'AZUR  \\\n",
       "0                            0                                      0   \n",
       "1                            0                                      0   \n",
       "2                            0                                      0   \n",
       "3                            0                                      0   \n",
       "4                            0                                      1   \n",
       "\n",
       "   ['region']_RHONE-ALPES  \n",
       "0                       0  \n",
       "1                       1  \n",
       "2                       0  \n",
       "3                       0  \n",
       "4                       0  \n",
       "\n",
       "[5 rows x 88 columns]"
      ]
     },
     "execution_count": 539,
     "metadata": {},
     "output_type": "execute_result"
    }
   ],
   "source": [
    "filename = \"encoded_data_all.csv\"\n",
    "df = pd.read_csv(filename, low_memory=False)\n",
    "data = df\n",
    "data.drop([\"Unnamed: 0\"], axis = 1, inplace = True)\n",
    "data.head(5)"
   ]
  },
  {
   "cell_type": "markdown",
   "metadata": {},
   "source": [
    "## Random Forest ##\n",
    "\n",
    "Try to clasify patients using random forest with different weights. The no shows are a minoritary class\n",
    "\n",
    "### Ratio of No Shows ###"
   ]
  },
  {
   "cell_type": "code",
   "execution_count": 540,
   "metadata": {},
   "outputs": [
    {
     "name": "stdout",
     "output_type": "stream",
     "text": [
      "Number of no shows:  227373\n",
      "Number of shows:  3011739\n",
      "Ratio: 7.55%\n"
     ]
    }
   ],
   "source": [
    "print(\"Number of no shows: \", len(data.loc[data[\"no_show\"] == 1]))\n",
    "print(\"Number of shows: \", len(data.loc[data[\"no_show\"] == 0]))\n",
    "print(\"Ratio: {:.2f}%\".format(100*(len(data.loc[data[\"no_show\"] == 1])/len(data.loc[data[\"no_show\"] == 0]))))"
   ]
  },
  {
   "cell_type": "markdown",
   "metadata": {},
   "source": [
    "### Separating Test and Train sets ###"
   ]
  },
  {
   "cell_type": "code",
   "execution_count": 556,
   "metadata": {},
   "outputs": [],
   "source": [
    "features = list(data.columns)\n",
    "features.remove('no_show')\n",
    "\n",
    "y = data['no_show']\n",
    "X = data[features]\n",
    "\n",
    "X_train, X_test, y_train, y_test = train_test_split(X, y, test_size=0.2, random_state = 10)"
   ]
  },
  {
   "cell_type": "markdown",
   "metadata": {},
   "source": [
    "### Evaluating parameters for the RF ###\n",
    "\n",
    "We will use cross-validation to find the best weight, depth and number of estimators for the RF"
   ]
  },
  {
   "cell_type": "markdown",
   "metadata": {},
   "source": [
    "## Performance Evaluation ##\n",
    "\n",
    "For the RF we want to plot the confusion matrix, the ROC curve and see training and test errors"
   ]
  },
  {
   "cell_type": "code",
   "execution_count": 565,
   "metadata": {},
   "outputs": [
    {
     "name": "stdout",
     "output_type": "stream",
     "text": [
      "Random Forest Parameters\n",
      "<bound method BaseEstimator.get_params of RandomForestClassifier(bootstrap=True, class_weight={0: 1, 1: 25},\n",
      "            criterion='gini', max_depth=23, max_features='auto',\n",
      "            max_leaf_nodes=None, min_impurity_decrease=0.0,\n",
      "            min_impurity_split=None, min_samples_leaf=1,\n",
      "            min_samples_split=2, min_weight_fraction_leaf=0.0,\n",
      "            n_estimators=20, n_jobs=None, oob_score=False,\n",
      "            random_state=None, verbose=0, warm_start=False)>\n"
     ]
    }
   ],
   "source": [
    "# rf_classifier = RandomForestClassifier()\n",
    "# cross_validation = ShuffleSplit(test_size = 0.2)\n",
    "\n",
    "# clf = GridSearchCV(estimator = rf_classifier,\n",
    "#                    param_grid = {'n_estimators': [10, 20],\n",
    "#                                  'max_depth': [5, 10, 20, 25],\n",
    "#                                  'class_weight': [{0:1, 1:1}, {0:1, 1:10}, {0:1, 1:25}]},\n",
    "#                    scoring = ‘f1_weighted’,\n",
    "#                    cv = cross_validation)\n",
    "\n",
    "clf = RandomForestClassifier(n_estimators = 20, max_depth = 23, class_weight = {0:1, 1:25})\n",
    "params = clf.get_params\n",
    "\n",
    "clf.fit(X_train, y_train)\n",
    "y_train_hat = clf.predict(X_train)\n",
    "y_test_hat = clf.predict(X_test)\n",
    "\n",
    "print('Random Forest Parameters')\n",
    "print(params)"
   ]
  },
  {
   "cell_type": "markdown",
   "metadata": {},
   "source": [
    "### Feature Importance ###"
   ]
  },
  {
   "cell_type": "code",
   "execution_count": 566,
   "metadata": {},
   "outputs": [
    {
     "data": {
      "text/plain": [
       "[]"
      ]
     },
     "execution_count": 566,
     "metadata": {},
     "output_type": "execute_result"
    },
    {
     "data": {
      "image/png": "[encoded data removed]",
      "text/plain": [
       "<Figure size 432x432 with 1 Axes>"
      ]
     },
     "metadata": {
      "needs_background": "light"
     },
     "output_type": "display_data"
    }
   ],
   "source": [
    "feature_importance = clf.feature_importances_\n",
    "fig = plt.figure(figsize = (6,6))\n",
    "ax = fig.add_subplot(1,1,1)\n",
    "ax.bar(X.columns, feature_importance)\n",
    "ax.set_title('Feature Importance')\n",
    "ax.set_xlabel('Column Number')\n",
    "ax.set_ylabel('Gini Importance')\n",
    "ax.set_xticklabels([])"
   ]
  },
  {
   "cell_type": "code",
   "execution_count": 567,
   "metadata": {},
   "outputs": [
    {
     "data": {
      "text/plain": [
       "1     0.089082\n",
       "2     0.072057\n",
       "3     0.057278\n",
       "6     0.055732\n",
       "4     0.043721\n",
       "25    0.027771\n",
       "13    0.024118\n",
       "33    0.023131\n",
       "9     0.022870\n",
       "12    0.022797\n",
       "8     0.022163\n",
       "35    0.021788\n",
       "29    0.020252\n",
       "28    0.018982\n",
       "5     0.017531\n",
       "dtype: float64"
      ]
     },
     "execution_count": 567,
     "metadata": {},
     "output_type": "execute_result"
    }
   ],
   "source": [
    "N = 15\n",
    "important_features_values = pd.Series(feature_importance).sort_values(ascending = False).iloc[:N]\n",
    "important_features_index = list(N_most_important_features.index.values)\n",
    "important_features = []\n",
    "important_features_values"
   ]
  },
  {
   "cell_type": "code",
   "execution_count": 568,
   "metadata": {},
   "outputs": [
    {
     "data": {
      "text/plain": [
       "Index(['online_booking', 'delay_in_days', 'patient_appt_number',\n",
       "       'previous_noshow', 'appt_duration', 'received_reminder_sms', 'zipcode',\n",
       "       '['patient_age_group']_0-17', '['patient_age_group']_18-24',\n",
       "       '['patient_age_group']_25-34', '['patient_age_group']_35-44',\n",
       "       '['patient_age_group']_45-54', '['patient_age_group']_55-64',\n",
       "       '['patient_age_group']_65+', '['visit_motive_name']_Autre',\n",
       "       '['visit_motive_name']_Bilan',\n",
       "       '['visit_motive_name']_Consultation & suivi',\n",
       "       '['visit_motive_name']_Extraction & chirurgie',\n",
       "       '['visit_motive_name']_Orthodonthie',\n",
       "       '['visit_motive_name']_Pose & prothèse',\n",
       "       '['visit_motive_name']_Première consultation',\n",
       "       '['visit_motive_name']_Soins légers', '['visit_motive_name']_Urgence',\n",
       "       '['organization_type']_Practice', '['organization_type']_Radiology',\n",
       "       '['organization_type']_Salaried establishment',\n",
       "       '['organization_type']_Self-employed establishment',\n",
       "       '['organization_type']_Solo practitioner', '['booking_device']_desktop',\n",
       "       '['booking_device']_mobile', '['booking_device']_not declared',\n",
       "       '['is_relative']_False', '['is_relative']_True', '['new_patient']_no',\n",
       "       '['new_patient']_not declared', '['new_patient']_yes', '['month']_1',\n",
       "       '['month']_2', '['month']_3', '['month']_4', '['month']_5',\n",
       "       '['month']_6', '['month']_7', '['month']_8', '['month']_9',\n",
       "       '['month']_10', '['month']_11', '['month']_12', '['day']_0',\n",
       "       '['day']_1', '['day']_2', '['day']_3', '['day']_4', '['day']_5',\n",
       "       '['day']_6', '['start']_0', '['start']_1', '['start']_2', '['start']_3',\n",
       "       '['created']_0', '['created']_1', '['created']_2', '['created']_3',\n",
       "       '['region']_ALSACE', '['region']_AQUITAINE', '['region']_AUVERGNE',\n",
       "       '['region']_BASSE-NORMANDIE', '['region']_BOURGOGNE',\n",
       "       '['region']_BRETAGNE', '['region']_CENTRE',\n",
       "       '['region']_CHAMPAGNE-ARDENNE', '['region']_Corse',\n",
       "       '['region']_FRANCHE-COMTE', '['region']_HAUTE-NORMANDIE',\n",
       "       '['region']_ILE-DE-FRANCE', '['region']_LANGUEDOC-ROUSSILLON',\n",
       "       '['region']_LIMOUSIN', '['region']_LORRAINE', '['region']_La Reunion',\n",
       "       '['region']_MIDI-PYRENEES', '['region']_Monaco',\n",
       "       '['region']_NORD-PAS-DE-CALAIS', '['region']_PAYS DE LA LOIRE',\n",
       "       '['region']_PICARDIE', '['region']_POITOU-CHARENTES',\n",
       "       '['region']_PROVENCE-ALPES-COTE D'AZUR', '['region']_RHONE-ALPES'],\n",
       "      dtype='object')"
      ]
     },
     "execution_count": 568,
     "metadata": {},
     "output_type": "execute_result"
    }
   ],
   "source": [
    "X.columns"
   ]
  },
  {
   "cell_type": "markdown",
   "metadata": {},
   "source": [
    "### Confusion Matrix ###"
   ]
  },
  {
   "cell_type": "code",
   "execution_count": 569,
   "metadata": {},
   "outputs": [
    {
     "data": {
      "text/plain": [
       "<matplotlib.axes._subplots.AxesSubplot at 0x1c7d8b7b70>"
      ]
     },
     "execution_count": 569,
     "metadata": {},
     "output_type": "execute_result"
    },
    {
     "data": {
      "image/png": "[encoded data removed]",
      "text/plain": [
       "<Figure size 432x288 with 2 Axes>"
      ]
     },
     "metadata": {
      "needs_background": "light"
     },
     "output_type": "display_data"
    }
   ],
   "source": [
    "CM = confusion_matrix(y_test, y_test_hat)\n",
    "sns.heatmap(CM, annot=True)"
   ]
  },
  {
   "cell_type": "markdown",
   "metadata": {},
   "source": [
    "### Performance Measures ###"
   ]
  },
  {
   "cell_type": "code",
   "execution_count": 570,
   "metadata": {
    "scrolled": true
   },
   "outputs": [
    {
     "name": "stdout",
     "output_type": "stream",
     "text": [
      "True Negative Rate (Acc-): 62.88%\n",
      "True Positive Rate (Acc+): 65.85%\n",
      "G-Mean: 64.35%\n",
      "Weighted Accuracy: 64.36%\n",
      "Precision: 11.82%\n",
      "Recall: 65.85%\n",
      "F-measure: 20.04%\n"
     ]
    }
   ],
   "source": [
    "recall = CM[1,1]/(CM[1,0]+CM[1,1]) # tp/(tp+fn)\n",
    "precision = CM[1,1]/(CM[0,1]+CM[1,1]) # # tp/(tp+fp)\n",
    "tnr = CM[0,0]/(CM[0,1]+CM[0,0]) # tn/(tn+fp) Acc-\n",
    "tpr = recall # Acc+\n",
    "\n",
    "f_measure = 2*precision*recall/(precision+recall)\n",
    "g_mean = (tpr*tnr) ** 0.5\n",
    "weighted_accuracy = 0.5 * tnr + 0.5 * tpr\n",
    "\n",
    "\n",
    "print('True Negative Rate (Acc-): {:.2f}%'.format(100*tnr))\n",
    "print('True Positive Rate (Acc+): {:.2f}%'.format(100*tpr))\n",
    "print('G-Mean: {:.2f}%'.format(100*g_mean))\n",
    "print('Weighted Accuracy: {:.2f}%'.format(100*weighted_accuracy))\n",
    "print('Precision: {:.2f}%'.format(100*precision))\n",
    "print('Recall: {:.2f}%'.format(100*recall))\n",
    "print('F-measure: {:.2f}%'.format(100*f_measure))"
   ]
  },
  {
   "cell_type": "markdown",
   "metadata": {},
   "source": [
    "### ROC Curve ###"
   ]
  },
  {
   "cell_type": "code",
   "execution_count": 571,
   "metadata": {},
   "outputs": [
    {
     "data": {
      "text/plain": [
       "<matplotlib.legend.Legend at 0x1c7e5c1e10>"
      ]
     },
     "execution_count": 571,
     "metadata": {},
     "output_type": "execute_result"
    },
    {
     "data": {
      "image/png": "[encoded data removed]",
      "text/plain": [
       "<Figure size 432x288 with 1 Axes>"
      ]
     },
     "metadata": {
      "needs_background": "light"
     },
     "output_type": "display_data"
    }
   ],
   "source": [
    "fpr, tpr, _ = roc_curve(y_test, clf.predict_proba(X_test)[:, 1])\n",
    "area=auc(fpr,tpr)\n",
    "fig=plt.figure()\n",
    "lw = 2\n",
    "plt.plot(fpr,tpr,color=\"darkred\", lw=lw, label=\"ROC curve RF : AUC = {:.3f}\".format(area))\n",
    "plt.plot([0,1], [0,1], color=\"navy\", lw=lw, linestyle=\"--\")\n",
    "plt.xlim(0.0, 1.0)\n",
    "plt.ylim(0.0, 1.05)\n",
    "plt.xlabel(\"False Positive Rate\")\n",
    "plt.ylabel(\"True Positive Rate\")\n",
    "plt.title(\"Receiver operating characteristic curve\")\n",
    "plt.legend(loc=\"lower right\")"
   ]
  },
  {
   "cell_type": "markdown",
   "metadata": {},
   "source": [
    "### Precision Recall Curve ###"
   ]
  },
  {
   "cell_type": "code",
   "execution_count": 572,
   "metadata": {},
   "outputs": [
    {
     "data": {
      "text/plain": [
       "Text(0.5, 1.0, 'Precision-Recall Curve')"
      ]
     },
     "execution_count": 572,
     "metadata": {},
     "output_type": "execute_result"
    },
    {
     "data": {
      "image/png": "[encoded data removed]",
      "text/plain": [
       "<Figure size 432x288 with 1 Axes>"
      ]
     },
     "metadata": {
      "needs_background": "light"
     },
     "output_type": "display_data"
    }
   ],
   "source": [
    "prec, rec, _ = precision_recall_curve(y_test, clf.predict_proba(X_test)[:, 1])\n",
    "fig=plt.figure()\n",
    "plt.plot(prec, rec ,color=\"darkred\", lw=2, label=\"Precision-Recall Curve RF\")\n",
    "plt.xlim(0.0, 1.0)\n",
    "plt.ylim(0.0, 1.05)\n",
    "plt.xlabel(\"Recall\")\n",
    "plt.ylabel(\"Precision\")\n",
    "plt.title(\"Precision-Recall Curve\")"
   ]
  },
  {
   "cell_type": "code",
   "execution_count": null,
   "metadata": {},
   "outputs": [],
   "source": []
  }
 ],
 "metadata": {
  "kernelspec": {
   "display_name": "Python 3",
   "language": "python",
   "name": "python3"
  },
  "language_info": {
   "codemirror_mode": {
    "name": "ipython",
    "version": 3
   },
   "file_extension": ".py",
   "mimetype": "text/x-python",
   "name": "python",
   "nbconvert_exporter": "python",
   "pygments_lexer": "ipython3",
   "version": "3.7.1"
  }
 },
 "nbformat": 4,
 "nbformat_minor": 2
}
