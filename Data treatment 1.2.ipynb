{
 "cells": [
  {
   "cell_type": "code",
   "execution_count": 1,
   "metadata": {},
   "outputs": [],
   "source": [
    "import pandas as pd\n",
    "import numpy as np"
   ]
  },
  {
   "cell_type": "code",
   "execution_count": 2,
   "metadata": {},
   "outputs": [],
   "source": [
    "data = pd.read_csv(\"c:/JG-BIG/CENTRALESUPELEC/1A/ST web data intelligence/EI doctolib/encoded_data_5%.csv\")"
   ]
  },
  {
   "cell_type": "code",
   "execution_count": 3,
   "metadata": {},
   "outputs": [],
   "source": [
    "##If we want to reduce the size of the data:\n",
    "#data = data.sample(frac = 0.05)"
   ]
  },
  {
   "cell_type": "code",
   "execution_count": 4,
   "metadata": {},
   "outputs": [],
   "source": [
    "#del data['specialty_subgroup']\n",
    "#del data['id']"
   ]
  },
  {
   "cell_type": "code",
   "execution_count": 5,
   "metadata": {},
   "outputs": [],
   "source": [
    "#new_patient_class = list(data['zipcode'].value_counts().keys())\n",
    "#new_patient_class"
   ]
  },
  {
   "cell_type": "code",
   "execution_count": 6,
   "metadata": {},
   "outputs": [],
   "source": [
    "def get_delay_class(delay):\n",
    "    if 0 <= int(delay) <= 1:\n",
    "        return 0\n",
    "    if 2 <= int(delay) <= 3:\n",
    "        return 1\n",
    "    if 4 <= int(delay) <= 7:\n",
    "        return 2\n",
    "    if 8 <= int(delay) <= 15:\n",
    "        return 3\n",
    "    if 16 <= int(delay) <= 50:\n",
    "        return 4\n",
    "    if 51 <= int(delay) <= 150:\n",
    "        return 5\n",
    "    else:\n",
    "        return 6"
   ]
  },
  {
   "cell_type": "code",
   "execution_count": 7,
   "metadata": {},
   "outputs": [],
   "source": [
    "data['delay_in_days'] = data['delay_in_days'].apply(lambda delay: get_delay_class(delay)) "
   ]
  },
  {
   "cell_type": "code",
   "execution_count": 8,
   "metadata": {},
   "outputs": [],
   "source": [
    "def get_duration_class(duration):\n",
    "    if 0 <= int(duration) <= 15:\n",
    "        return 0\n",
    "    if 16 <= int(duration) <= 30:\n",
    "        return 1\n",
    "    if 31 <= int(duration) <= 45:\n",
    "        return 2\n",
    "    if 46 <= int(duration) <= 60:\n",
    "        return 3\n",
    "    if 60 <= int(duration) <= 90:\n",
    "        return 4\n",
    "    else:\n",
    "        return 5"
   ]
  },
  {
   "cell_type": "code",
   "execution_count": 9,
   "metadata": {},
   "outputs": [],
   "source": [
    "data['appt_duration'] = data['appt_duration'].apply(lambda duration: get_duration_class(duration)) "
   ]
  },
  {
   "cell_type": "code",
   "execution_count": 10,
   "metadata": {},
   "outputs": [],
   "source": [
    "def get_appt_class(number):\n",
    "    if 0 == int(number):\n",
    "        return 0\n",
    "    if 1 == int(number):\n",
    "        return 1\n",
    "    if 2 <= int(number) <= 4:\n",
    "        return 2\n",
    "    if 5 <= int(number) <= 10:\n",
    "        return 3\n",
    "    if 11 <= int(number) <= 30:\n",
    "        return 4\n",
    "    else:\n",
    "        return 5"
   ]
  },
  {
   "cell_type": "code",
   "execution_count": 11,
   "metadata": {},
   "outputs": [],
   "source": [
    "data['patient_appt_number'] = data['patient_appt_number'].apply(lambda number: get_appt_class(number)) "
   ]
  },
  {
   "cell_type": "code",
   "execution_count": 12,
   "metadata": {},
   "outputs": [],
   "source": [
    "delay_in_days_dummy = pd.get_dummies(data['delay_in_days'], prefix=['delay_in_days']).copy()"
   ]
  },
  {
   "cell_type": "code",
   "execution_count": 13,
   "metadata": {},
   "outputs": [],
   "source": [
    "appt_duration_dummy = pd.get_dummies(data['appt_duration'], prefix=['appt_duration']).copy()"
   ]
  },
  {
   "cell_type": "code",
   "execution_count": 14,
   "metadata": {},
   "outputs": [],
   "source": [
    "patient_appt_number_dummy = pd.get_dummies(data['patient_appt_number'], prefix=['patient_appt_number']).copy()"
   ]
  },
  {
   "cell_type": "code",
   "execution_count": 15,
   "metadata": {},
   "outputs": [],
   "source": [
    "data.drop(['appt_duration','delay_in_days','patient_appt_number','zipcode'], axis=1, inplace = True)"
   ]
  },
  {
   "cell_type": "code",
   "execution_count": 16,
   "metadata": {},
   "outputs": [],
   "source": [
    "bucketized_df = pd.concat([data, delay_in_days_dummy, appt_duration_dummy, patient_appt_number_dummy], axis=1)"
   ]
  },
  {
   "cell_type": "code",
   "execution_count": 17,
   "metadata": {},
   "outputs": [],
   "source": [
    "#bucketized_df"
   ]
  },
  {
   "cell_type": "code",
   "execution_count": 18,
   "metadata": {},
   "outputs": [],
   "source": [
    "bucketized_df.to_csv('encoded_data_5%_2.csv')"
   ]
  },
  {
   "cell_type": "code",
   "execution_count": null,
   "metadata": {},
   "outputs": [],
   "source": []
  }
 ],
 "metadata": {
  "kernelspec": {
   "display_name": "Python 3",
   "language": "python",
   "name": "python3"
  },
  "language_info": {
   "codemirror_mode": {
    "name": "ipython",
    "version": 3
   },
   "file_extension": ".py",
   "mimetype": "text/x-python",
   "name": "python",
   "nbconvert_exporter": "python",
   "pygments_lexer": "ipython3",
   "version": "3.6.5"
  }
 },
 "nbformat": 4,
 "nbformat_minor": 2
}
